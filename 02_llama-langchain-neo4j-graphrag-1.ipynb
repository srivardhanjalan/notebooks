{
 "cells": [
  {
   "cell_type": "markdown",
   "id": "0fff4d3f",
   "metadata": {},
   "source": [
    "#Background\n",
    "\n",
    "This is a experimentation setup to use LLaMA3 LLM, Langchain and Neo4j, to create a GraphRAG Setup and execute queries to draw insights.\n",
    "\n",
    "##Steps at a Glance\n",
    "\n",
    "1. Install Required Dependencies\n",
    "2. Create a Neo4j Account and Start a Aura DB Instance\n",
    "3. Setup Credentials and LLM\n",
    "4. Setup Conversation Chat History\n",
    "5. Download Cricket Data\n",
    "6. Read the Cricket Data using Langchain\n",
    "7. Create Vector Indexes for the Data \n",
    "8. Execute Queries\n",
    "9. Experimentation\n",
    "10. Reference Documentation\n",
    "\n",
    "##Step 1.\n",
    "\n",
    "Install the required Neo4j and Langchanin dependencies. \n",
    "\n",
    "[Prerequisite] Please Install Ollama to execute the LLaMA LLM, and Setup Jupyter Notebooks locally by following Step 1 & 2 in the following Notebook - llama-langchain-experimentaion.ipynb"
   ]
  },
  {
   "cell_type": "code",
   "execution_count": 1,
   "id": "8e4bf3df",
   "metadata": {},
   "outputs": [],
   "source": [
    "!pip install --upgrade --quiet neo4j yfiles_jupyter_graphs_for_neo4j"
   ]
  },
  {
   "cell_type": "code",
   "execution_count": 2,
   "id": "511e866b-fec2-40b4-b116-5790a6a023a9",
   "metadata": {},
   "outputs": [],
   "source": [
    "!pip install --upgrade --quiet  json-repair networkx langchain-core langchain-experimental langchain-community"
   ]
  },
  {
   "cell_type": "markdown",
   "id": "ae93a72a",
   "metadata": {},
   "source": [
    "##2. Create a Neo4j Account and Start an Aura DB Instance\n",
    "\n",
    "Go To: https://neo4j.com/product/auradb/ and Click on `Get Started for Free`\n",
    "Create an Account and Login. Alternatively use your Gmail creentials to Signup & Login.\n",
    "Create a Free AuraDB Instance and wait for it to start up. \n",
    "\n",
    "Please Note: Ensure to download/copy the credentials for the AuraDB Instance and store it safely.\n",
    "\n",
    "##3. Setup Credentials and LLM"
   ]
  },
  {
   "cell_type": "code",
   "execution_count": 3,
   "id": "92094bcf",
   "metadata": {},
   "outputs": [],
   "source": [
    "from langchain_community.chat_models import ChatOllama\n",
    "\n",
    "url = \"YOUR NEO4J AURADB CONNECTION URL\"\n",
    "username = \"neo4j\"\n",
    "password = \"YOUR NEO4J AURADB PASSWORD\"\n",
    "\n",
    "llm = ChatOllama(model=\"llama3.1\", temperature=0) "
   ]
  },
  {
   "cell_type": "markdown",
   "id": "b8d623b4",
   "metadata": {},
   "source": [
    "##4. Setup text to be used to create the Knowledge Graph\n",
    "\n",
    "If the `useStaticText` flag is turned off, it will pull information from a website and split the data into chunks for processing."
   ]
  },
  {
   "cell_type": "code",
   "execution_count": 4,
   "id": "90e8232e",
   "metadata": {},
   "outputs": [
    {
     "name": "stderr",
     "output_type": "stream",
     "text": [
      "USER_AGENT environment variable not set, consider setting it to identify your requests.\n"
     ]
    }
   ],
   "source": [
    "from langchain_community.document_loaders import WebBaseLoader\n",
    "from langchain_core.documents import Document\n",
    "from langchain_text_splitters import RecursiveCharacterTextSplitter\n",
    "\n",
    "useStaticText = True\n",
    "docs = []\n",
    "\n",
    "if useStaticText:\n",
    "    text = \"\"\"\n",
    "    Marie Curie, born in 1867, was a Polish and naturalised-French physicist and chemist who conducted pioneering research on radioactivity.\n",
    "    She was the first woman to win a Nobel Prize, the first person to win a Nobel Prize twice, and the only person to win a Nobel Prize in two scientific fields.\n",
    "    Her husband, Pierre Curie, was a co-winner of her first Nobel Prize, making them the first-ever married couple to win the Nobel Prize and launching the Curie family legacy of five Nobel Prizes.\n",
    "    She was, in 1906, the first woman to become a professor at the University of Paris. \n",
    "    \"\"\"\n",
    "    docs = [Document(page_content=text)]\n",
    "\n",
    "else:\n",
    "    loader = WebBaseLoader([\"https://huggingface.co/blog/llama3\"])\n",
    "    documents = loader.load()\n",
    "\n",
    "    text_splitter = RecursiveCharacterTextSplitter(chunk_size=1000, chunk_overlap=100)\n",
    "    docs = text_splitter.split_documents(documents)"
   ]
  },
  {
   "cell_type": "markdown",
   "id": "d9fc38e6",
   "metadata": {},
   "source": [
    "##5. Create the Knowledge Graph"
   ]
  },
  {
   "cell_type": "code",
   "execution_count": 6,
   "id": "069cd2ab",
   "metadata": {},
   "outputs": [
    {
     "name": "stdout",
     "output_type": "stream",
     "text": [
      "Nodes:[Node(id='Nobel Prize', type='Award', properties={}), Node(id='five Nobel Prizes', type='Award', properties={}), Node(id='radioactivity', type='Field of Study', properties={}), Node(id='Marie Curie', type='Person', properties={}), Node(id='two scientific fields', type='Field of Study', properties={}), Node(id='physicist and chemist', type='Occupation', properties={}), Node(id='University of Paris', type='Institution', properties={}), Node(id=\"Marie Curie's first Nobel Prize\", type='Event', properties={}), Node(id='Pierre Curie', type='Person', properties={}), Node(id='1867', type='Year', properties={})]\n",
      "Relationships:[Relationship(source=Node(id='Marie Curie', type='Person', properties={}), target=Node(id='1867', type='Year', properties={}), type='BORN_IN', properties={}), Relationship(source=Node(id='Marie Curie', type='Person', properties={}), target=Node(id='physicist and chemist', type='Occupation', properties={}), type='WORKS_AS', properties={}), Relationship(source=Node(id='Marie Curie', type='Person', properties={}), target=Node(id='radioactivity', type='Field of Study', properties={}), type='CONDUCTED_RESEARCH_ON', properties={}), Relationship(source=Node(id='Marie Curie', type='Person', properties={}), target=Node(id='Nobel Prize', type='Award', properties={}), type='FIRST_TO_WIN', properties={}), Relationship(source=Node(id='Marie Curie', type='Person', properties={}), target=Node(id='Nobel Prize', type='Award', properties={}), type='WON_TWICE', properties={}), Relationship(source=Node(id='Marie Curie', type='Person', properties={}), target=Node(id='two scientific fields', type='Field of Study', properties={}), type='FIRST_TO_WIN_IN_TWO_FIELDS', properties={}), Relationship(source=Node(id='Pierre Curie', type='Person', properties={}), target=Node(id=\"Marie Curie's first Nobel Prize\", type='Event', properties={}), type='CO-WINNER_OF', properties={}), Relationship(source=Node(id='Pierre Curie', type='Person', properties={}), target=Node(id='Marie Curie', type='Person', properties={}), type='MARRIED_TO', properties={}), Relationship(source=Node(id='Marie Curie', type='Person', properties={}), target=Node(id='University of Paris', type='Institution', properties={}), type='FIRST_WOMAN_TO_BECOME_PROFESSOR', properties={}), Relationship(source=Node(id='Marie Curie', type='Person', properties={}), target=Node(id='five Nobel Prizes', type='Award', properties={}), type='LAUNCHED_FAMILY_LEGACY', properties={})]\n"
     ]
    }
   ],
   "source": [
    "from langchain_experimental.graph_transformers import LLMGraphTransformer\n",
    "\n",
    "llm_transformer = LLMGraphTransformer(llm=llm)\n",
    "graph_documents = llm_transformer.convert_to_graph_documents(docs)\n",
    "\n",
    "# Congigurations can be added as below to control the Kind of Nodes and Relationships in the KNowledge Graph.\n",
    "#\n",
    "# llm_transformer_filtered = LLMGraphTransformer(\n",
    "#     llm=llm,\n",
    "#     allowed_nodes=[\"Person\", \"Country\", \"Organization\"],\n",
    "#     allowed_relationships=[\"NATIONALITY\", \"LOCATED_IN\", \"WORKED_AT\", \"SPOUSE\"],\n",
    "# )\n",
    "# graph_documents_filtered = llm_transformer_filtered.convert_to_graph_documents(\n",
    "#     d\n",
    "# )\n",
    "\n",
    "print(f\"Nodes:{graph_documents[0].nodes}\")\n",
    "print(f\"Relationships:{graph_documents[0].relationships}\")"
   ]
  },
  {
   "cell_type": "markdown",
   "id": "21e30835",
   "metadata": {},
   "source": [
    "##6. Connect to Neo4j AuraDB and add the Graph\n",
    "\n",
    "Please change the flag `addGraphDocuments` to `True` when creating the Knowledge Graph for the first time. It is set to `False` to prevent subsequent run for crearing duplicate nodes in the Knowledge Graph."
   ]
  },
  {
   "cell_type": "code",
   "execution_count": 7,
   "id": "17eb1184",
   "metadata": {},
   "outputs": [],
   "source": [
    "from langchain_community.graphs import Neo4jGraph\n",
    "\n",
    "graph = Neo4jGraph(\n",
    "    url=url, \n",
    "    username=username, \n",
    "    password=password\n",
    ")"
   ]
  },
  {
   "cell_type": "code",
   "execution_count": 8,
   "id": "f31e94cf",
   "metadata": {},
   "outputs": [],
   "source": [
    "addGraphDocuments = True\n",
    "\n",
    "if addGraphDocuments:\n",
    "    graph.add_graph_documents(\n",
    "        graph_documents,\n",
    "        baseEntityLabel=True, \n",
    "        include_source=True\n",
    "    )"
   ]
  },
  {
   "cell_type": "markdown",
   "id": "3624a0db",
   "metadata": {},
   "source": [
    "##7. Visualize the Graph\n",
    "\n",
    "Please Note: If you get an error with the YFiles Widget, please ensure you close the reopen the Jupyter Notebook to ensure the dependencies are loaded correctly."
   ]
  },
  {
   "cell_type": "code",
   "execution_count": 10,
   "id": "a4df3b63",
   "metadata": {},
   "outputs": [
    {
     "data": {
      "application/vnd.jupyter.widget-view+json": {
       "model_id": "7e2a62ca02b24e0390b6417faeb692ac",
       "version_major": 2,
       "version_minor": 0
      },
      "text/plain": [
       "GraphWidget(layout=Layout(height='610px', width='100%'))"
      ]
     },
     "metadata": {},
     "output_type": "display_data"
    }
   ],
   "source": [
    "from yfiles_jupyter_graphs_for_neo4j import Neo4jGraphWidget\n",
    "from neo4j import GraphDatabase\n",
    "\n",
    "driver = GraphDatabase.driver(uri = url, auth = (username, password))\n",
    "g = Neo4jGraphWidget(driver)\n",
    "g.show_cypher(\"MATCH (s)-[r]->(t) RETURN s,r,t\")"
   ]
  },
  {
   "cell_type": "markdown",
   "id": "49d48bef",
   "metadata": {},
   "source": [
    "##8. Execute a Query"
   ]
  },
  {
   "cell_type": "code",
   "execution_count": 20,
   "id": "6925994d",
   "metadata": {},
   "outputs": [
    {
     "name": "stdout",
     "output_type": "stream",
     "text": [
      "\n",
      "\n",
      "\u001b[1m> Entering new GraphCypherQAChain chain...\u001b[0m\n",
      "Generated Cypher:\n",
      "\u001b[32;1m\u001b[1;3mMATCH (p:Person)-[:WORKS_AS]->(o) RETURN o;\u001b[0m\n",
      "Full Context:\n",
      "\u001b[32;1m\u001b[1;3m[{'o': {'id': 'physicist and chemist'}}]\u001b[0m\n",
      "\n",
      "\u001b[1m> Finished chain.\u001b[0m\n"
     ]
    },
    {
     "data": {
      "text/plain": [
       "{'query': 'what do the people work as?',\n",
       " 'result': 'People work as a physicist and chemist.',\n",
       " 'intermediate_steps': [{'query': 'MATCH (p:Person)-[:WORKS_AS]->(o) RETURN o;'},\n",
       "  {'context': [{'o': {'id': 'physicist and chemist'}}]}]}"
      ]
     },
     "execution_count": 20,
     "metadata": {},
     "output_type": "execute_result"
    }
   ],
   "source": [
    "from langchain.chains import GraphCypherQAChain\n",
    "\n",
    "chain = GraphCypherQAChain.from_llm(\n",
    "    graph=graph, \n",
    "    llm=llm, \n",
    "    verbose=True,\n",
    "    return_intermediate_steps=True,\n",
    "    allow_dangerous_requests=True\n",
    ")\n",
    "\n",
    "response = chain.invoke({\"query\": \"what do the people work as?\"})\n",
    "response"
   ]
  }
 ],
 "metadata": {
  "kernelspec": {
   "display_name": "Python 3 (ipykernel)",
   "language": "python",
   "name": "python3"
  },
  "language_info": {
   "codemirror_mode": {
    "name": "ipython",
    "version": 3
   },
   "file_extension": ".py",
   "mimetype": "text/x-python",
   "name": "python",
   "nbconvert_exporter": "python",
   "pygments_lexer": "ipython3",
   "version": "3.12.4"
  }
 },
 "nbformat": 4,
 "nbformat_minor": 5
}
